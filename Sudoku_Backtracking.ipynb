{
 "cells": [
  {
   "cell_type": "code",
   "execution_count": 1,
   "metadata": {},
   "outputs": [],
   "source": [
    "import random\n",
    "random.seed(2) # Lưu kết quả random"
   ]
  },
  {
   "cell_type": "code",
   "execution_count": 2,
   "metadata": {
    "tags": []
   },
   "outputs": [],
   "source": [
    "#Khởi tạo bảng 9x9\n",
    "grid =[[0 for x in range(9)]for y in range(9)] \n"
   ]
  },
  {
   "cell_type": "code",
   "execution_count": 3,
   "metadata": {},
   "outputs": [],
   "source": [
    "# Kiểm tra bảng được khởi tạo và còn trống hay không?\n",
    "def checkGrid(grid):\n",
    "  for row in range(0, 9):\n",
    "      for col in range(0, 9):\n",
    "        if grid[row][col] == 0:\n",
    "          return False\n",
    "  return True"
   ]
  },
  {
   "cell_type": "code",
   "execution_count": 4,
   "metadata": {},
   "outputs": [],
   "source": [
    "#Thêm phần tử vào bảng\n",
    "numberList = [1, 2, 3, 4, 5, 6, 7, 8, 9]#Hàm shuffle dùng để đổi ngẫu nhiên thứ tự của các phần tử trong chuỗi\n",
    "def fillGrid(grid):\n",
    "  global counter\n",
    "  for i in range(0, 81):\n",
    "    row = i//9\n",
    "    col = i % 9\n",
    "    if grid[row][col] == 0:\n",
    "      random.shuffle(numberList)\n",
    "      for value in numberList:\n",
    "        if not(value in grid[row]):\n",
    "          if not value in (grid[0][col], grid[1][col], grid[2][col], grid[3][col], grid[4][col], grid[5][col], grid[6][col], grid[7][col], grid[8][col]):\n",
    "            square = []\n",
    "            if row < 3:\n",
    "              if col < 3:\n",
    "                square = [grid[i][0:3] for i in range(0, 3)]\n",
    "              elif col < 6:\n",
    "                square = [grid[i][3:6] for i in range(0, 3)]\n",
    "              else:\n",
    "                square = [grid[i][6:9] for i in range(0, 3)]\n",
    "            elif row < 6:\n",
    "              if col < 3:\n",
    "                square = [grid[i][0:3] for i in range(3, 6)]\n",
    "              elif col < 6:\n",
    "                square = [grid[i][3:6] for i in range(3, 6)]\n",
    "              else:\n",
    "                square = [grid[i][6:9] for i in range(3, 6)]\n",
    "            else:\n",
    "              if col < 3:\n",
    "                square = [grid[i][0:3] for i in range(6, 9)]\n",
    "              elif col < 6:\n",
    "                square = [grid[i][3:6] for i in range(6, 9)]\n",
    "              else:\n",
    "                square = [grid[i][6:9] for i in range(6, 9)]\n",
    "            if not value in (square[0] + square[1] + square[2]):\n",
    "              grid[row][col] = value\n",
    "              if checkGrid(grid):\n",
    "                return True\n",
    "              else:\n",
    "                if fillGrid(grid):\n",
    "                  return True\n",
    "      break\n",
    "  grid[row][col] = 0"
   ]
  },
  {
   "cell_type": "code",
   "execution_count": 5,
   "metadata": {},
   "outputs": [],
   "source": [
    "def holes(grid, n):\n",
    "    while n > 0:\n",
    "        for i in range(9):\n",
    "            if i == 0:\n",
    "                i = random.randint(0, 2)\n",
    "                j = random.randint(0, 2)\n",
    "                while grid[i][j] == 0:\n",
    "                    i = random.randint(0, 2)\n",
    "                    j = random.randint(0, 2)\n",
    "                grid[i][j] = 0\n",
    "            elif i == 1:\n",
    "                i = random.randint(0, 2)\n",
    "                j = random.randint(3, 5)\n",
    "                while grid[i][j] == 0:\n",
    "                    i = random.randint(0, 2)\n",
    "                    j = random.randint(3, 5)\n",
    "                grid[i][j] = 0\n",
    "            elif i == 2:\n",
    "                i = random.randint(0, 2)\n",
    "                j = random.randint(6, 8)\n",
    "                while grid[i][j] == 0:\n",
    "                    i = random.randint(0, 2)\n",
    "                    j = random.randint(6, 8)\n",
    "                grid[i][j] = 0\n",
    "            elif i == 3:\n",
    "                i = random.randint(3, 5)\n",
    "                j = random.randint(0, 2)\n",
    "                while grid[i][j] == 0:\n",
    "                    i = random.randint(3, 5)\n",
    "                    j = random.randint(0, 2)\n",
    "                grid[i][j] = 0\n",
    "            elif i == 4:\n",
    "                i = random.randint(3, 5)\n",
    "                j = random.randint(3, 5)\n",
    "                while grid[i][j] == 0:\n",
    "                    i = random.randint(3, 5)\n",
    "                    j = random.randint(3, 5)\n",
    "                grid[i][j] = 0\n",
    "            elif i == 5:\n",
    "                i = random.randint(3, 5)\n",
    "                j = random.randint(6, 8)\n",
    "                while grid[i][j] == 0:\n",
    "                    i = random.randint(3, 5)\n",
    "                    j = random.randint(6, 8)\n",
    "                grid[i][j] = 0\n",
    "            elif i == 6:\n",
    "                i = random.randint(6, 8)\n",
    "                j = random.randint(0, 2)\n",
    "                while grid[i][j] == 0:\n",
    "                    i = random.randint(6, 8)\n",
    "                    j = random.randint(0, 2)\n",
    "                grid[i][j] = 0\n",
    "            elif i == 7:\n",
    "                i = random.randint(6, 8)\n",
    "                j = random.randint(3, 5)\n",
    "                while grid[i][j] == 0:\n",
    "                    i = random.randint(6, 8)\n",
    "                    j = random.randint(3, 5)\n",
    "                grid[i][j] = 0\n",
    "            elif i == 8:\n",
    "                i = random.randint(6, 8)\n",
    "                j = random.randint(6, 8)\n",
    "                while grid[i][j] == 0:\n",
    "                    i = random.randint(6, 8)\n",
    "                    j = random.randint(6, 8)\n",
    "                grid[i][j] = 0\n",
    "        n -= 1\n",
    "    return grid"
   ]
  },
  {
   "cell_type": "code",
   "execution_count": 6,
   "metadata": {
    "tags": []
   },
   "outputs": [],
   "source": [
    "def solve(grid):\n",
    "    find = find_empty(grid)\n",
    "    if not find:\n",
    "        return True\n",
    "    else:\n",
    "        row, col = find\n",
    "    for i in range(1,10):\n",
    "        if valid(grid, i, (row, col)):\n",
    "            grid[row][col] = i\n",
    "            if solve(grid):\n",
    "                return True\n",
    "            grid[row][col] = 0\n",
    "    return False"
   ]
  },
  {
   "cell_type": "code",
   "execution_count": 7,
   "metadata": {},
   "outputs": [],
   "source": [
    "def valid(bo, num, pos):\n",
    "    for i in range(len(bo[0])):\n",
    "        if bo[pos[0]][i] == num and pos[1] != i:\n",
    "            return False\n",
    "    for i in range(len(bo)):\n",
    "        if bo[i][pos[1]] == num and pos[0] != i:\n",
    "            return False\n",
    "    box_x = pos[1] // 3\n",
    "    box_y = pos[0] // 3\n",
    "\n",
    "    for i in range(box_y*3, box_y*3 + 3):\n",
    "        for j in range(box_x * 3, box_x*3 + 3):\n",
    "            if bo[i][j] == num and (i,j) != pos:\n",
    "                return False\n",
    "\n",
    "    return True"
   ]
  },
  {
   "cell_type": "code",
   "execution_count": 8,
   "metadata": {},
   "outputs": [],
   "source": [
    "def print_board(grid):\n",
    "    for i in range(len(grid)):\n",
    "        if i % 3 == 0 and i != 0:\n",
    "            print(\"- - - - - - - - - - - -\")\n",
    "        for j in range(len(grid[0])):\n",
    "            if j % 3 == 0 and j != 0:\n",
    "                print(\" | \", end=\"\")\n",
    "            if j == 8:\n",
    "                print(grid[i][j])\n",
    "            else:\n",
    "                print(str(grid[i][j]) + \" \", end=\"\")\n"
   ]
  },
  {
   "cell_type": "code",
   "execution_count": 9,
   "metadata": {},
   "outputs": [],
   "source": [
    "def find_empty(grid):\n",
    "    for row in range(len(grid)):\n",
    "        for col in range(len(grid[0])):\n",
    "            if grid[row][col] == 0:\n",
    "                return (row, col)\n",
    "    return None"
   ]
  },
  {
   "cell_type": "code",
   "execution_count": 10,
   "metadata": {
    "tags": []
   },
   "outputs": [
    {
     "output_type": "stream",
     "name": "stdout",
     "text": [
      "0 0 0  | 0 0 0  | 0 0 6\n0 6 2  | 0 4 9  | 0 0 0\n0 0 5  | 6 0 0  | 2 8 0\n- - - - - - - - - - - -\n0 0 0  | 1 0 0  | 0 0 0\n5 8 0  | 7 0 0  | 4 0 0\n0 0 6  | 4 0 0  | 0 5 7\n- - - - - - - - - - - -\n6 0 1  | 8 0 0  | 0 0 9\n0 0 0  | 9 0 0  | 0 0 8\n0 0 8  | 0 7 0  | 1 0 0\n\n________________________\n\n1 3 4  | 2 8 7  | 5 9 6\n8 6 2  | 5 4 9  | 3 7 1\n7 9 5  | 6 1 3  | 2 8 4\n- - - - - - - - - - - -\n3 4 7  | 1 9 5  | 8 6 2\n5 8 9  | 7 6 2  | 4 1 3\n2 1 6  | 4 3 8  | 9 5 7\n- - - - - - - - - - - -\n6 5 1  | 8 2 4  | 7 3 9\n4 7 3  | 9 5 1  | 6 2 8\n9 2 8  | 3 7 6  | 1 4 5\n"
     ]
    }
   ],
   "source": [
    "if __name__ == \"__main__\":\n",
    "    m=54  #Số Lỗ trong sudoku\n",
    "    n=m/9 # Số lỗ trong mỗi matrix 3x3\n",
    "    fillGrid(grid) # Hàm điền số ngẫu nhiên vào bảng\n",
    "    holes(grid, n) # hàm tạo lỗ trống\n",
    "    print_board(grid)\n",
    "    print(\"\")\n",
    "    solve(grid)\n",
    "    print(\"________________________\")\n",
    "    print(\"\")\n",
    "    print_board(grid)"
   ]
  }
 ],
 "metadata": {
  "kernelspec": {
   "display_name": "Python 3",
   "language": "python",
   "name": "python3"
  },
  "language_info": {
   "codemirror_mode": {
    "name": "ipython",
    "version": 3
   },
   "file_extension": ".py",
   "mimetype": "text/x-python",
   "name": "python",
   "nbconvert_exporter": "python",
   "pygments_lexer": "ipython3",
   "version": "3.8.3-final"
  }
 },
 "nbformat": 4,
 "nbformat_minor": 4
}