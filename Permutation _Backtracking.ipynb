{
 "cells": [
  {
   "cell_type": "code",
   "execution_count": 4,
   "metadata": {},
   "outputs": [
    {
     "name": "stdout",
     "output_type": "stream",
     "text": [
      "[1, 2, 3]\n",
      "[1, 3, 2]\n",
      "[2, 1, 3]\n",
      "[2, 3, 1]\n",
      "[3, 1, 2]\n",
      "[3, 2, 1]\n"
     ]
    }
   ],
   "source": [
    "def HVBacktracking(A,n,out=[]):\n",
    "    out.append(A.copy())\n",
    "    while True:\n",
    "        #B1: Bắt đầu vòng lặp với j=n-2:\n",
    "        for j in range(n-2,-2,-1):\n",
    "            #B2: nếu A[j]>=A[j+1] dừng Vòng lặp\n",
    "            if A[j]<A[j+1]:\n",
    "                break;\n",
    "        if j<0:\n",
    "            return out\n",
    "        for l in range(n-1,0,-1):\n",
    "            if A[j]<A[l]:\n",
    "                A[j],A[l]=A[l],A[j]\n",
    "                break\n",
    "        A[j+1:]=A[:j:-1]\n",
    "        out.append(A.copy())\n",
    "\n",
    "B=[1,2,3]\n",
    "m=len(B)\n",
    "print(*HVBacktracking(B,m),sep='\\n')"
   ]
  }
 ],
 "metadata": {
  "kernelspec": {
   "display_name": "Python 3",
   "language": "python",
   "name": "python3"
  },
  "language_info": {
   "codemirror_mode": {
    "name": "ipython",
    "version": 3
   },
   "file_extension": ".py",
   "mimetype": "text/x-python",
   "name": "python",
   "nbconvert_exporter": "python",
   "pygments_lexer": "ipython3",
   "version": "3.8.3"
  }
 },
 "nbformat": 4,
 "nbformat_minor": 4
}